{
  "nbformat": 4,
  "nbformat_minor": 0,
  "metadata": {
    "colab": {
      "name": "password generator.ipynb",
      "provenance": [],
      "authorship_tag": "ABX9TyMCJggcof3ppSzCF2su4mPb",
      "include_colab_link": true
    },
    "kernelspec": {
      "display_name": "Python 3",
      "name": "python3"
    },
    "language_info": {
      "name": "python"
    }
  },
  "cells": [
    {
      "cell_type": "markdown",
      "metadata": {
        "id": "view-in-github",
        "colab_type": "text"
      },
      "source": [
        "<a href=\"https://colab.research.google.com/github/MutumaIan/Basic-Python/blob/master/password_generator.ipynb\" target=\"_parent\"><img src=\"https://colab.research.google.com/assets/colab-badge.svg\" alt=\"Open In Colab\"/></a>"
      ]
    },
    {
      "cell_type": "code",
      "metadata": {
        "colab": {
          "base_uri": "https://localhost:8080/"
        },
        "id": "pD_p7ez7ve4X",
        "outputId": "f3ee6dd2-3167-47db-8b1a-503ff5b5b967"
      },
      "source": [
        "import random\n",
        "\n",
        "lower= \"qwertyuiopasdfghjklzxcvbnm\"\n",
        "upper = \"QWERTYUIOPASDFGHJKLZXCVBNM\"\n",
        "numbers= \"1234567890\"\n",
        "symbols= \"{}[]();:,./_+-=\"\n",
        "\n",
        "all = lower+upper+numbers+symbols\n",
        "\n",
        "length = 8\n",
        "password = \"\".join(random.sample(all, length))\n",
        "print (password)"
      ],
      "execution_count": 3,
      "outputs": [
        {
          "output_type": "stream",
          "name": "stdout",
          "text": [
            "/)Nb15KI\n"
          ]
        }
      ]
    },
    {
      "cell_type": "code",
      "metadata": {
        "id": "wGzwbKzgwLkh"
      },
      "source": [
        ""
      ],
      "execution_count": null,
      "outputs": []
    }
  ]
}