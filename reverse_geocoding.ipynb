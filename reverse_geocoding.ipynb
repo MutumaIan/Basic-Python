{
 "cells": [
  {
   "cell_type": "code",
   "execution_count": 1,
   "id": "346303e8-ec3b-43ff-bb10-9bc7f7289ba2",
   "metadata": {},
   "outputs": [],
   "source": [
    "\n",
    "import pandas as pd\n",
    "#import geopandas as gpd\n",
    "import geopy\n",
    "from geopy.geocoders import Nominatim\n",
    "from geopy.extra.rate_limiter import RateLimiter\n",
    "import matplotlib.pyplot as plt\n",
    "import plotly_express as px\n",
    "from tqdm import tqdm, tqdm_notebook"
   ]
  },
  {
   "cell_type": "code",
   "execution_count": 3,
   "id": "1468e9d8-0306-4404-9dd6-541f95a6e5fe",
   "metadata": {},
   "outputs": [],
   "source": [
    "locator = Nominatim(user_agent=\"myGeocoder\", timeout=10)\n",
    "rgeocode = RateLimiter(locator.reverse, min_delay_seconds=0.001)"
   ]
  },
  {
   "cell_type": "code",
   "execution_count": 7,
   "id": "68e6315b-ca02-4104-bd57-fcb392c774fd",
   "metadata": {},
   "outputs": [
    {
     "name": "stdout",
     "output_type": "stream",
     "text": [
      "C:\\Users\\Ian Mutuma\\OneDrive - Shujaaz Inc\\Documents\\py\n"
     ]
    }
   ],
   "source": [
    "cd C:\\Users\\Ian Mutuma\\OneDrive - Shujaaz Inc\\Documents\\py"
   ]
  },
  {
   "cell_type": "code",
   "execution_count": 9,
   "id": "ef8afe3b-b142-461e-9e14-ddc27b92e45a",
   "metadata": {},
   "outputs": [],
   "source": [
    "df = pd.read_excel(\"loc_nrd_clean.xlsx\")"
   ]
  },
  {
   "cell_type": "code",
   "execution_count": 10,
   "id": "99e3b697-db2d-459b-803f-a8f2a7a0b5f7",
   "metadata": {},
   "outputs": [],
   "source": [
    "df = pd.DataFrame(df)"
   ]
  },
  {
   "cell_type": "code",
   "execution_count": 11,
   "id": "b72dc621-8f1d-4291-9db4-3d3221c72726",
   "metadata": {},
   "outputs": [
    {
     "name": "stdout",
     "output_type": "stream",
     "text": [
      "<class 'pandas.core.frame.DataFrame'>\n",
      "RangeIndex: 2903 entries, 0 to 2902\n",
      "Data columns (total 6 columns):\n",
      " #   Column       Non-Null Count  Dtype         \n",
      "---  ------       --------------  -----         \n",
      " 0   id           2903 non-null   object        \n",
      " 1   Max of date  2903 non-null   datetime64[ns]\n",
      " 2   geolocation  2903 non-null   object        \n",
      " 3   lat          2903 non-null   float64       \n",
      " 4   long         2903 non-null   float64       \n",
      " 5   device       2903 non-null   object        \n",
      "dtypes: datetime64[ns](1), float64(2), object(3)\n",
      "memory usage: 136.2+ KB\n"
     ]
    }
   ],
   "source": [
    "df.info()"
   ]
  },
  {
   "cell_type": "code",
   "execution_count": 12,
   "id": "89f0c43f-66f9-4e64-8811-02a5469a0400",
   "metadata": {},
   "outputs": [
    {
     "name": "stderr",
     "output_type": "stream",
     "text": [
      "100%|██████████████████████████████████████████████████████████████████████████████| 2903/2903 [24:12<00:00,  2.00it/s]\n"
     ]
    },
    {
     "data": {
      "text/html": [
       "<div>\n",
       "<style scoped>\n",
       "    .dataframe tbody tr th:only-of-type {\n",
       "        vertical-align: middle;\n",
       "    }\n",
       "\n",
       "    .dataframe tbody tr th {\n",
       "        vertical-align: top;\n",
       "    }\n",
       "\n",
       "    .dataframe thead th {\n",
       "        text-align: right;\n",
       "    }\n",
       "</style>\n",
       "<table border=\"1\" class=\"dataframe\">\n",
       "  <thead>\n",
       "    <tr style=\"text-align: right;\">\n",
       "      <th></th>\n",
       "      <th>id</th>\n",
       "      <th>Max of date</th>\n",
       "      <th>geolocation</th>\n",
       "      <th>lat</th>\n",
       "      <th>long</th>\n",
       "      <th>device</th>\n",
       "      <th>address</th>\n",
       "    </tr>\n",
       "  </thead>\n",
       "  <tbody>\n",
       "    <tr>\n",
       "      <th>0</th>\n",
       "      <td>8e9df0b7-f733-4bd7-90ed-d6d71a8d2184</td>\n",
       "      <td>2022-01-15 06:40:44</td>\n",
       "      <td>-1.2403969,36.6152971</td>\n",
       "      <td>-1.240397</td>\n",
       "      <td>36.615297</td>\n",
       "      <td>Android (8.1.0)</td>\n",
       "      <td>(Kiambu, Central Kenya, Kenya, (-1.24038307884...</td>\n",
       "    </tr>\n",
       "    <tr>\n",
       "      <th>1</th>\n",
       "      <td>a932b3e3-9703-4e93-b68e-8d4511328aa1</td>\n",
       "      <td>2022-01-14 17:14:10</td>\n",
       "      <td>-1.2780598,36.6164133</td>\n",
       "      <td>-1.278060</td>\n",
       "      <td>36.616413</td>\n",
       "      <td>Android (9)</td>\n",
       "      <td>(Kiambu, Central Kenya, Kenya, (-1.27805722294...</td>\n",
       "    </tr>\n",
       "    <tr>\n",
       "      <th>2</th>\n",
       "      <td>138825b3-f22e-4a4f-a8a0-a82f8e2fa0c3</td>\n",
       "      <td>2022-01-30 05:28:32</td>\n",
       "      <td>-1.2841568,36.6166467</td>\n",
       "      <td>-1.284157</td>\n",
       "      <td>36.616647</td>\n",
       "      <td>samsung(SM-A022F) -  (10)</td>\n",
       "      <td>(Kiambu, Central Kenya, Kenya, (-1.28487849534...</td>\n",
       "    </tr>\n",
       "    <tr>\n",
       "      <th>3</th>\n",
       "      <td>373cc8fb-c109-4830-af4f-c06684b6ede8</td>\n",
       "      <td>2022-02-09 07:05:00</td>\n",
       "      <td>-1.2376618,36.6185162</td>\n",
       "      <td>-1.237662</td>\n",
       "      <td>36.618516</td>\n",
       "      <td>Infinix(Infinix X624B) -  (8.1.0)</td>\n",
       "      <td>(Kamangu Kikuyu Road, Kikuyu, Kiambu, Central ...</td>\n",
       "    </tr>\n",
       "    <tr>\n",
       "      <th>4</th>\n",
       "      <td>6fc90239-ef2b-4329-b0ca-145b8d32bfcc</td>\n",
       "      <td>2022-01-14 10:26:14</td>\n",
       "      <td>-1.2826011,36.622382</td>\n",
       "      <td>-1.282601</td>\n",
       "      <td>36.622382</td>\n",
       "      <td>Android (9)</td>\n",
       "      <td>(Gikambura, Kiambu, Central Kenya, Kenya, (-1....</td>\n",
       "    </tr>\n",
       "  </tbody>\n",
       "</table>\n",
       "</div>"
      ],
      "text/plain": [
       "                                     id         Max of date  \\\n",
       "0  8e9df0b7-f733-4bd7-90ed-d6d71a8d2184 2022-01-15 06:40:44   \n",
       "1  a932b3e3-9703-4e93-b68e-8d4511328aa1 2022-01-14 17:14:10   \n",
       "2  138825b3-f22e-4a4f-a8a0-a82f8e2fa0c3 2022-01-30 05:28:32   \n",
       "3  373cc8fb-c109-4830-af4f-c06684b6ede8 2022-02-09 07:05:00   \n",
       "4  6fc90239-ef2b-4329-b0ca-145b8d32bfcc 2022-01-14 10:26:14   \n",
       "\n",
       "             geolocation       lat       long  \\\n",
       "0  -1.2403969,36.6152971 -1.240397  36.615297   \n",
       "1  -1.2780598,36.6164133 -1.278060  36.616413   \n",
       "2  -1.2841568,36.6166467 -1.284157  36.616647   \n",
       "3  -1.2376618,36.6185162 -1.237662  36.618516   \n",
       "4   -1.2826011,36.622382 -1.282601  36.622382   \n",
       "\n",
       "                               device  \\\n",
       "0                     Android (8.1.0)   \n",
       "1                         Android (9)   \n",
       "2           samsung(SM-A022F) -  (10)   \n",
       "3   Infinix(Infinix X624B) -  (8.1.0)   \n",
       "4                         Android (9)   \n",
       "\n",
       "                                             address  \n",
       "0  (Kiambu, Central Kenya, Kenya, (-1.24038307884...  \n",
       "1  (Kiambu, Central Kenya, Kenya, (-1.27805722294...  \n",
       "2  (Kiambu, Central Kenya, Kenya, (-1.28487849534...  \n",
       "3  (Kamangu Kikuyu Road, Kikuyu, Kiambu, Central ...  \n",
       "4  (Gikambura, Kiambu, Central Kenya, Kenya, (-1....  "
      ]
     },
     "execution_count": 12,
     "metadata": {},
     "output_type": "execute_result"
    }
   ],
   "source": [
    "tqdm.pandas()\n",
    "df[\"address\"] = df[\"geolocation\"].progress_apply(rgeocode)\n",
    "df.head()"
   ]
  },
  {
   "cell_type": "code",
   "execution_count": 13,
   "id": "0cb3d94b-a12c-4436-80de-e2d2a4a5c082",
   "metadata": {},
   "outputs": [],
   "source": [
    "df.to_excel(\"Nrb_loc.xlsx\") "
   ]
  },
  {
   "cell_type": "code",
   "execution_count": null,
   "id": "efd283c0-4970-4a96-919d-666020f9a78c",
   "metadata": {},
   "outputs": [],
   "source": []
  }
 ],
 "metadata": {
  "kernelspec": {
   "display_name": "Python 3 (ipykernel)",
   "language": "python",
   "name": "python3"
  },
  "language_info": {
   "codemirror_mode": {
    "name": "ipython",
    "version": 3
   },
   "file_extension": ".py",
   "mimetype": "text/x-python",
   "name": "python",
   "nbconvert_exporter": "python",
   "pygments_lexer": "ipython3",
   "version": "3.9.5"
  }
 },
 "nbformat": 4,
 "nbformat_minor": 5
}
